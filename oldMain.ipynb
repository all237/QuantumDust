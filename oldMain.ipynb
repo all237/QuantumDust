{
 "cells": [
  {
   "cell_type": "code",
   "execution_count": 2,
   "metadata": {},
   "outputs": [],
   "source": [
    "from qiskit import *\n",
    "from qiskit.visualization import *\n",
    "from qiskit.quantum_info.operators import Operator, Pauli\n",
    "from qiskit.providers.ibmq import least_busy\n",
    "import numpy as np\n",
    "import math"
   ]
  },
  {
   "cell_type": "code",
   "execution_count": 3,
   "metadata": {},
   "outputs": [],
   "source": [
    "IBMQ.load_accounts()"
   ]
  },
  {
   "cell_type": "code",
   "execution_count": 65,
   "metadata": {},
   "outputs": [],
   "source": [
    "class DustCircuit(QuantumCircuit):\n",
    "    def __init__(self, n_qbits, t, freq, alt_version=True):\n",
    "        n_states = 2**n_qbits\n",
    "        self.alt_version = alt_version\n",
    "        self.q = QuantumRegister(n_qbits)\n",
    "        self.c = ClassicalRegister(n_qbits)\n",
    "        self.dict_results = None\n",
    "        self.statevector = None\n",
    "        self.result = None        \n",
    "        super().__init__(self.q,self.c)\n",
    "        coefs = None\n",
    "        if(alt_version): coefs = DustCircuit._generate_coefs2(n_qbits, t, freq)\n",
    "        else: coefs = DustCircuit._generate_coefs1(n_states, t, freq)\n",
    "        self.initialize(coefs, self.q)\n",
    "    def simulate(self, nshots = 1000,backend=BasicAer.get_backend('qasm_simulator')):\n",
    "        self.result = execute(self, backend, shots=nshots).result()        \n",
    "        self.counts = self.result.get_counts(self)\n",
    "        self.dict_results = {}\n",
    "        if(self.alt_version):\n",
    "            self.dict_results['0'] = self.counts['000']            \n",
    "            self.dict_results['1'] = nshots-self.dict_results['0']\n",
    "        else:\n",
    "            for key in list(self.counts.keys()):\n",
    "                self.dict_results[int(key,2)] = self.counts[key]\n",
    "        return self.result\n",
    "    def simulate_statevector(self):\n",
    "        self.result = execute(self, BasicAer.get_backend('statevector_simulator')).result()\n",
    "        self.statevector = self.result.get_statevector(self)\n",
    "        return self.result\n",
    "    def execute(self, nshots = 1000, max_credits=3):\n",
    "        large_enough_devices = IBMQ.backends(filters=lambda x: x.configuration().n_qubits < 10 and\n",
    "                                                       not x.configuration().simulator)\n",
    "        backend = least_busy(large_enough_devices)\n",
    "        self.result = execute(self, backend, shots=nshots, max_credits=max_credits).result()\n",
    "        self.counts = self.result.get_counts(self)\n",
    "        self.dict_results = {}\n",
    "        if(self.alt_version):\n",
    "            self.dict_results['0'] = self.counts['000']            \n",
    "            self.dict_results['1'] = nshots-self.dict_results['0']\n",
    "        else:\n",
    "            for key in list(self.counts.keys()):\n",
    "                self.dict_results[int(key,2)] = self.counts[key]\n",
    "        return self.result\n",
    "    def plot(self, how='histogram'):\n",
    "        fig = None\n",
    "        if (how == 'histogram'): fig = \\\n",
    "         plot_histogram(self.dict_results)\n",
    "        elif (how == 'state_city'): fig = \\\n",
    "         plot_state_city(self.statevector)\n",
    "        return fig    \n",
    "    def exec_and_simulate(self, nshots = 1000, sim_backend = BasicAer.get_backend('qasm_simulator'), credits=3):\n",
    "        self.simulate(nshots, backend=sim_backend)\n",
    "        sim_results = self.dict_results        \n",
    "        self.execute(nshots, max_credits=credits)\n",
    "        self.dict_results = [sim_results, self.dict_results]        \n",
    "    @staticmethod\n",
    "    def _generate_coefs1(tam, t, freq):\n",
    "        h, kB = 6.582119624 * 10**(-16), 8.6173324*10**(-5) #ctes    \n",
    "        E = [h*freq*(i+1/2) for i in range(tam)]\n",
    "        cNumerador = [math.exp(-E[i]/(kB*t)) for i in range(tam)]     \n",
    "        sumDenom = math.sqrt(sum(cNumerador))\n",
    "        c = [math.sqrt(cNumerador[i])/sumDenom for i in range(tam)]\n",
    "        return c\n",
    "    @staticmethod\n",
    "    def _generate_coefs2(n, t, freq):\n",
    "        tam = 2**n\n",
    "        h, kB = 6.582119624 * 10**(-16), 8.6173324*10**(-5) #ctes    \n",
    "        #E = [h*freq*(i+1/2) for i in range(tam)]\n",
    "        E = []\n",
    "        for i in list(map(lambda b: str(bin(b))[2:],range(tam))):\n",
    "            mult = i.count('1')+n/2\n",
    "            E.append(h*freq*mult)\n",
    "        cNumerador = [math.exp(-E[i]/(kB*t)) for i in range(tam)]     \n",
    "        sumDenom = math.sqrt(sum(cNumerador))\n",
    "        c = [math.sqrt(cNumerador[i])/sumDenom for i in range(tam)]\n",
    "        return c"
   ]
  },
  {
   "cell_type": "code",
   "execution_count": 46,
   "metadata": {},
   "outputs": [
    {
     "name": "stdout",
     "output_type": "stream",
     "text": [
      "1.5\n",
      "0\n",
      "2.5\n",
      "1\n",
      "2.5\n",
      "10\n",
      "3.5\n",
      "11\n",
      "2.5\n",
      "100\n",
      "3.5\n",
      "101\n",
      "3.5\n",
      "110\n",
      "4.5\n",
      "111\n"
     ]
    },
    {
     "data": {
      "text/plain": [
       "[0.5702657828214867,\n",
       " 0.38431421195809423,\n",
       " 0.38431421195809423,\n",
       " 0.25899750250175096,\n",
       " 0.38431421195809423,\n",
       " 0.25899750250175096,\n",
       " 0.25899750250175096,\n",
       " 0.17454391280606324]"
      ]
     },
     "execution_count": 46,
     "metadata": {},
     "output_type": "execute_result"
    }
   ],
   "source": [
    "t, freq = 15*10**9, 1.55*10**21 \n",
    "DustCircuit._generate_coefs2(t, freq, 3)\n"
   ]
  },
  {
   "cell_type": "code",
   "execution_count": null,
   "metadata": {},
   "outputs": [],
   "source": [
    "t, freq = 15*10**9, 1.55*10**21 \n",
    "c = DustCircuit(3, t, freq)\n",
    "#c.crz(2*math.pi, c.q[0], c.q[1])\n",
    "c.measure(c.q, c.c)\n",
    "c.exec_and_simulate()\n"
   ]
  },
  {
   "cell_type": "code",
   "execution_count": 63,
   "metadata": {},
   "outputs": [
    {
     "data": {
      "text/plain": [
       "{'101': 64,\n",
       " '110': 51,\n",
       " '111': 34,\n",
       " '000': 336,\n",
       " '100': 156,\n",
       " '001': 143,\n",
       " '011': 60,\n",
       " '010': 156}"
      ]
     },
     "execution_count": 63,
     "metadata": {},
     "output_type": "execute_result"
    }
   ],
   "source": [
    "c.counts"
   ]
  },
  {
   "cell_type": "code",
   "execution_count": 64,
   "metadata": {},
   "outputs": [
    {
     "data": {
      "image/png": "[encoded data removed]",
      "text/plain": [
       "<Figure size 504x360 with 1 Axes>"
      ]
     },
     "execution_count": 64,
     "metadata": {},
     "output_type": "execute_result"
    }
   ],
   "source": [
    "c.plot()"
   ]
  },
  {
   "cell_type": "code",
   "execution_count": 19,
   "metadata": {},
   "outputs": [
    {
     "data": {
      "image/png": "[encoded data removed]",
      "text/plain": [
       "<Figure size 504x360 with 1 Axes>"
      ]
     },
     "execution_count": 19,
     "metadata": {},
     "output_type": "execute_result"
    }
   ],
   "source": [
    "c.plot()"
   ]
  },
  {
   "cell_type": "code",
   "execution_count": 5,
   "metadata": {},
   "outputs": [
    {
     "ename": "NameError",
     "evalue": "name 'coeficiente' is not defined",
     "output_type": "error",
     "traceback": [
      "\u001b[0;31m---------------------------------------------------------------------------\u001b[0m",
      "\u001b[0;31mNameError\u001b[0m                                 Traceback (most recent call last)",
      "\u001b[0;32m<ipython-input-5-18cff247819b>\u001b[0m in \u001b[0;36m<module>\u001b[0;34m\u001b[0m\n\u001b[1;32m     18\u001b[0m     \u001b[0;32mreturn\u001b[0m \u001b[0;34m(\u001b[0m\u001b[0mm\u001b[0m\u001b[0;34m,\u001b[0m\u001b[0mc\u001b[0m\u001b[0;34m)\u001b[0m\u001b[0;34m\u001b[0m\u001b[0;34m\u001b[0m\u001b[0m\n\u001b[1;32m     19\u001b[0m \u001b[0;34m\u001b[0m\u001b[0m\n\u001b[0;32m---> 20\u001b[0;31m \u001b[0mcoef\u001b[0m \u001b[0;34m=\u001b[0m \u001b[0mcoeficiente\u001b[0m\u001b[0;34m(\u001b[0m\u001b[0;36m4\u001b[0m\u001b[0;34m,\u001b[0m \u001b[0;36m15\u001b[0m\u001b[0;34m*\u001b[0m\u001b[0;36m10\u001b[0m\u001b[0;34m**\u001b[0m\u001b[0;36m9\u001b[0m\u001b[0;34m,\u001b[0m \u001b[0;36m1.55\u001b[0m\u001b[0;34m*\u001b[0m\u001b[0;36m10\u001b[0m\u001b[0;34m**\u001b[0m\u001b[0;36m21\u001b[0m\u001b[0;34m)\u001b[0m\u001b[0;34m\u001b[0m\u001b[0;34m\u001b[0m\u001b[0m\n\u001b[0m\u001b[1;32m     21\u001b[0m \u001b[0;31m#map(lambda x: x*x, c)\u001b[0m\u001b[0;34m\u001b[0m\u001b[0;34m\u001b[0m\u001b[0;34m\u001b[0m\u001b[0m\n",
      "\u001b[0;31mNameError\u001b[0m: name 'coeficiente' is not defined"
     ]
    }
   ],
   "source": [
    "\n",
    "def matrizDensidad(tam, t, freq): #tam 4, estados 0 a 3\n",
    "    h, kB = 6.582119624 * 10**(-16), 8.6173324*10**(-5) #ctes    \n",
    "    E = [h*freq*(i+1/2) for i in range(tam)]\n",
    "    #E = [-13.6, -9.37,-5.14,-0.9]\n",
    "    \n",
    "    cNumerador = [math.exp(-E[i]/(kB*t)) for i in range(tam)] \n",
    "    print(cNumerador)\n",
    "    sumDenom = math.sqrt(sum(cNumerador))\n",
    "    print(sumDenom)\n",
    "    c = [math.sqrt(cNumerador[i])/sumDenom for i in range(tam)]\n",
    "    \n",
    "    \n",
    "    #c[tam-1] = 1 - sum([math.sqrt(cNumerador[i])/sumDenom for i in range(tam)])\n",
    "    \n",
    "    print(c)\n",
    "    m = np.matrix([[c[i]*c[j] for j in range(tam)] for i in range(tam)])\n",
    "    return (m,c)\n"
   ]
  },
  {
   "cell_type": "code",
   "execution_count": 8,
   "metadata": {},
   "outputs": [
    {
     "data": {
      "text/plain": [
       "<qiskit.circuit.instructionset.InstructionSet at 0x7fb2ba67ba90>"
      ]
     },
     "execution_count": 8,
     "metadata": {},
     "output_type": "execute_result"
    }
   ],
   "source": [
    "t, freq = 15*10**10, 1.55*10**21 \n",
    "c = DustCircuit(4, t, freq)\n",
    "c.measure(c.q, c.c)\n",
    "#c.exec_and_show()\n",
    "#large_enough_devices = IBMQ.backends(filters=lambda x: x.configuration().n_qubits < 10 and\n",
    "#                                                       not x.configuration().simulator)\n",
    "#backend = least_busy(large_enough_devices)\n",
    "#job = execute(c, backend, shots=1000, max_credits=5)\n",
    "#print (c)"
   ]
  },
  {
   "cell_type": "code",
   "execution_count": null,
   "metadata": {},
   "outputs": [],
   "source": [
    "plot_histogram(job.result().get_counts())"
   ]
  }
 ],
 "metadata": {
  "kernelspec": {
   "display_name": "Python 3",
   "language": "python",
   "name": "python3"
  },
  "language_info": {
   "codemirror_mode": {
    "name": "ipython",
    "version": 3
   },
   "file_extension": ".py",
   "mimetype": "text/x-python",
   "name": "python",
   "nbconvert_exporter": "python",
   "pygments_lexer": "ipython3",
   "version": "3.7.3"
  }
 },
 "nbformat": 4,
 "nbformat_minor": 2
}
