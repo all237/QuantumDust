{
 "cells": [
  {
   "cell_type": "code",
   "execution_count": 1,
   "metadata": {},
   "outputs": [],
   "source": [
    "from qiskit import *\n",
    "from qiskit.visualization import *\n",
    "from qiskit.transpiler import PassManager\n",
    "#from qiskit.quantum_info.operators import Operator, Pauli\n",
    "from qiskit.providers.ibmq import least_busy\n",
    "from qiskit.aqua.algorithms import ExactEigensolver\n",
    "from qiskit.aqua.algorithms import QPE\n",
    "from qiskit.aqua import QuantumInstance\n",
    "from qiskit.aqua.components.initial_states import Custom\n",
    "from qiskit.aqua import Operator\n",
    "from qiskit.aqua.components.iqfts import Standard\n",
    "import numpy as np\n",
    "import math\n",
    "import matplotlib.pyplot as plt"
   ]
  },
  {
   "cell_type": "code",
   "execution_count": 3,
   "metadata": {},
   "outputs": [],
   "source": [
    "def matrixHamiltonian(tam, freq): #tam 4, estados 0 a 3\n",
    "    h = 6.582119624 * 10**(-16)\n",
    "    E = [h*freq*(i+1/2) for i in range(tam)]\n",
    "    L = []\n",
    "    for i in range(tam):\n",
    "        L.append(list())\n",
    "        for j in range(tam):\n",
    "            if i==j: L[i].append(E[i])\n",
    "            else: L[i].append(0)\n",
    "    m = np.matrix(L)\n",
    "    return m\n"
   ]
  },
  {
   "cell_type": "code",
   "execution_count": 9,
   "metadata": {},
   "outputs": [],
   "source": [
    "def eigenvalues(m, q_bits, n_ancillae):\n",
    "    result_qpe = []\n",
    "    for i in range(2**q_bits):\n",
    "        op = Operator(matrix=m)\n",
    "        eig_res = ExactEigensolver(op, k=2**q_bits)\n",
    "        eig_res = eig_res.run()\n",
    "        eigv = eig_res['eigvecs']\n",
    "\n",
    "        state = Custom(q_bits, state_vector=eigv[i])\n",
    "\n",
    "        num_time_slices = 50\n",
    "        iqft = Standard(n_ancillae)\n",
    "\n",
    "        qpe = QPE(op, state, iqft, num_time_slices, n_ancillae, expansion_mode='suzuki',\n",
    "                  expansion_order=2, shallow_circuit_concat=True)\n",
    "\n",
    "        backend = BasicAer.get_backend('qasm_simulator')\n",
    "        quantum_instance = QuantumInstance(backend, shots=100, pass_manager=PassManager())\n",
    "        result_qpe.append(qpe.run(quantum_instance))\n",
    "    return result_qpe"
   ]
  },
  {
   "cell_type": "code",
   "execution_count": 1,
   "metadata": {
    "collapsed": true
   },
   "outputs": [
    {
     "ename": "NameError",
     "evalue": "name 'matrixHamiltonian' is not defined",
     "output_type": "error",
     "traceback": [
      "\u001b[0;31m---------------------------------------------------------------------------\u001b[0m",
      "\u001b[0;31mNameError\u001b[0m                                 Traceback (most recent call last)",
      "\u001b[0;32m<ipython-input-1-a385a9391fbc>\u001b[0m in \u001b[0;36m<module>\u001b[0;34m\u001b[0m\n\u001b[1;32m      1\u001b[0m \u001b[0mq_bits\u001b[0m \u001b[0;34m=\u001b[0m \u001b[0;36m2\u001b[0m\u001b[0;34m\u001b[0m\u001b[0;34m\u001b[0m\u001b[0m\n\u001b[0;32m----> 2\u001b[0;31m \u001b[0mm\u001b[0m\u001b[0;34m,\u001b[0m \u001b[0mn_ancillae\u001b[0m \u001b[0;34m=\u001b[0m \u001b[0mmatrixHamiltonian\u001b[0m\u001b[0;34m(\u001b[0m\u001b[0;36m2\u001b[0m\u001b[0;34m**\u001b[0m\u001b[0mq_bits\u001b[0m\u001b[0;34m,\u001b[0m \u001b[0;36m10\u001b[0m\u001b[0;34m**\u001b[0m\u001b[0;36m16\u001b[0m\u001b[0;34m)\u001b[0m\u001b[0;34m,\u001b[0m \u001b[0;36m7\u001b[0m\u001b[0;34m\u001b[0m\u001b[0;34m\u001b[0m\u001b[0m\n\u001b[0m\u001b[1;32m      3\u001b[0m \u001b[0mresult_qpe\u001b[0m \u001b[0;34m=\u001b[0m \u001b[0;34m[\u001b[0m\u001b[0;34m]\u001b[0m\u001b[0;34m\u001b[0m\u001b[0;34m\u001b[0m\u001b[0m\n\u001b[1;32m      4\u001b[0m \u001b[0mop\u001b[0m \u001b[0;34m=\u001b[0m \u001b[0mOperator\u001b[0m\u001b[0;34m(\u001b[0m\u001b[0mmatrix\u001b[0m\u001b[0;34m=\u001b[0m\u001b[0mm\u001b[0m\u001b[0;34m)\u001b[0m\u001b[0;34m\u001b[0m\u001b[0;34m\u001b[0m\u001b[0m\n\u001b[1;32m      5\u001b[0m \u001b[0meig_res\u001b[0m \u001b[0;34m=\u001b[0m \u001b[0mExactEigensolver\u001b[0m\u001b[0;34m(\u001b[0m\u001b[0mop\u001b[0m\u001b[0;34m,\u001b[0m \u001b[0mk\u001b[0m\u001b[0;34m=\u001b[0m\u001b[0;36m2\u001b[0m\u001b[0;34m**\u001b[0m\u001b[0mq_bits\u001b[0m\u001b[0;34m)\u001b[0m\u001b[0;34m\u001b[0m\u001b[0;34m\u001b[0m\u001b[0m\n",
      "\u001b[0;31mNameError\u001b[0m: name 'matrixHamiltonian' is not defined"
     ]
    }
   ],
   "source": [
    "q_bits = 2\n",
    "m, n_ancillae = matrixHamiltonian(2**q_bits, 10**16), 7\n",
    "result_qpe = []\n",
    "op = Operator(matrix=m)\n",
    "eig_res = ExactEigensolver(op, k=2**q_bits)\n",
    "eig_res = eig_res.run()\n",
    "eigv = eig_res['eigvecs']\n",
    "\n",
    "state = Custom(q_bits, state_vector=eigv[i])\n",
    "\n",
    "num_time_slices = 50\n",
    "iqft = Standard(n_ancillae)\n",
    "\n",
    "qpe = QPE(op, state, iqft, num_time_slices, n_ancillae, expansion_mode='suzuki',\n",
    "          expansion_order=2, shallow_circuit_concat=True)\n",
    "\n",
    "#qpe.construct_circuit(measurement = True).draw()"
   ]
  },
  {
   "cell_type": "code",
   "execution_count": 22,
   "metadata": {
    "collapsed": true
   },
   "outputs": [
    {
     "name": "stdout",
     "output_type": "stream",
     "text": [
      "[[{'translation': 23.037418683999995, 'stretch': 0.021703820504302473, 'top_measurement_label': '1001001', 'top_measurement_decimal': 0.5703125, 'eigvals': [3.239637002437501], 'energy': 3.239637002437501}, {'translation': 23.037418683999995, 'stretch': 0.021703820504302473, 'top_measurement_label': '1011011', 'top_measurement_decimal': 0.7109375, 'eigvals': [9.7189110073125], 'energy': 9.7189110073125}, {'translation': 23.037418683999995, 'stretch': 0.021703820504302473, 'top_measurement_label': '1101110', 'top_measurement_decimal': 0.859375, 'eigvals': [16.558144679125], 'energy': 16.558144679125}, {'translation': 23.037418683999995, 'stretch': 0.021703820504302473, 'top_measurement_label': '0000000', 'top_measurement_decimal': 0.0, 'eigvals': [-23.037418683999995], 'energy': -23.037418683999995}], [{'translation': 23.037418683999995, 'stretch': 0.021703820504302473, 'top_measurement_label': '100100101', 'top_measurement_decimal': 0.572265625, 'eigvals': [3.3296269191718757], 'energy': 3.3296269191718757}, {'translation': 23.037418683999995, 'stretch': 0.021703820504302473, 'top_measurement_label': '101101110', 'top_measurement_decimal': 0.71484375, 'eigvals': [9.898890840781249], 'energy': 9.898890840781249}, {'translation': 23.037418683999995, 'stretch': 0.021703820504302473, 'top_measurement_label': '110110111', 'top_measurement_decimal': 0.857421875, 'eigvals': [16.46815476239062], 'energy': 16.46815476239062}, {'translation': 23.037418683999995, 'stretch': 0.021703820504302473, 'top_measurement_label': '000000000', 'top_measurement_decimal': 0.0, 'eigvals': [-23.037418683999995], 'energy': -23.037418683999995}], [{'translation': 23.037418683999995, 'stretch': 0.021703820504302473, 'top_measurement_label': '10010010010', 'top_measurement_decimal': 0.5712890625, 'eigvals': [3.2846319608046883], 'energy': 3.2846319608046883}, {'translation': 23.037418683999995, 'stretch': 0.021703820504302473, 'top_measurement_label': '10110110111', 'top_measurement_decimal': 0.71435546875, 'eigvals': [9.876393361597657], 'energy': 9.876393361597657}, {'translation': 23.037418683999995, 'stretch': 0.021703820504302473, 'top_measurement_label': '11011011011', 'top_measurement_decimal': 0.85693359375, 'eigvals': [16.445657283207026], 'energy': 16.445657283207026}, {'translation': 23.037418683999995, 'stretch': 0.021703820504302473, 'top_measurement_label': '00000000000', 'top_measurement_decimal': 0.0, 'eigvals': [-23.037418683999995], 'energy': -23.037418683999995}]]\n"
     ]
    }
   ],
   "source": [
    "q_bits = 2                             \n",
    "m = matrixHamiltonian(2**q_bits, 10**16)\n",
    "results = []\n",
    "for i in range(7,12,2):\n",
    "    results.append(eigenvalues(m, q_bits, i))\n",
    "print(results)"
   ]
  },
  {
   "cell_type": "code",
   "execution_count": 29,
   "metadata": {},
   "outputs": [],
   "source": [
    "num_ancillae = math.floor((12-7)/2)"
   ]
  },
  {
   "cell_type": "code",
   "execution_count": 50,
   "metadata": {},
   "outputs": [],
   "source": [
    "energiasR = [m.item(i,i) for i in range(2**q_bits)]\n",
    "energias = []\n",
    "for j in range(num_ancillae+1):\n",
    "    energias.append([abs(results[j][i][\"energy\"]) for i in range(2**q_bits)]) \n"
   ]
  },
  {
   "cell_type": "code",
   "execution_count": 52,
   "metadata": {},
   "outputs": [
    {
     "data": {
      "image/png": "[encoded data removed]",
      "text/plain": [
       "<Figure size 432x288 with 1 Axes>"
      ]
     },
     "metadata": {
      "needs_background": "light"
     },
     "output_type": "display_data"
    }
   ],
   "source": [
    "fig, ax = plt.subplots()\n",
    "\n",
    "index = np.arange(2**q_bits)\n",
    "\n",
    "bar_width = 0.3\n",
    "opacity = 0.8\n",
    "\n",
    "rects= plt.bar(index, energias[2], bar_width, alpha=opacity, color = 'b', label='Ancillae' + str(11))\n",
    "\n",
    "plt.xticks(index + bar_width/2, ('Eigv 1', 'Eigv 2', 'Eigv 3', 'Eigv 4'))\n",
    "plt.xlabel('')\n",
    "plt.ylabel('Eigenvalue')\n",
    "plt.legend()\n",
    "\n",
    "\n",
    "plt.tight_layout()\n",
    "plt.show()"
   ]
  },
  {
   "cell_type": "code",
   "execution_count": null,
   "metadata": {},
   "outputs": [],
   "source": [
    "for j in range(num_ancillae+1):\n",
    "    energias[j] = [abs(energias[j][i]-energiasR[i]) for i in range(2**q_bits)]"
   ]
  },
  {
   "cell_type": "code",
   "execution_count": 47,
   "metadata": {},
   "outputs": [
    {
     "name": "stdout",
     "output_type": "stream",
     "text": [
      "[[0.051422809562498895, 0.1542684286874998, 0.10284561912500223, 3.552713678800501e-15], [0.038567107171875836, 0.02571140478124967, 0.012855702390620394, 3.552713678800501e-15], [0.006427851195311529, 0.003213925597657763, 0.009641776792971513, 3.552713678800501e-15]]\n"
     ]
    }
   ],
   "source": [
    "print(energias)"
   ]
  },
  {
   "cell_type": "code",
   "execution_count": 46,
   "metadata": {},
   "outputs": [
    {
     "data": {
      "image/png": "[encoded data removed]",
      "text/plain": [
       "<Figure size 432x288 with 1 Axes>"
      ]
     },
     "metadata": {
      "needs_background": "light"
     },
     "output_type": "display_data"
    }
   ],
   "source": [
    "fig, ax = plt.subplots()\n",
    "\n",
    "index = np.arange(2**q_bits)\n",
    "\n",
    "bar_width = 0.3\n",
    "opacity = 0.8\n",
    "\n",
    "color = ['b', 'g', 'r', 'k']\n",
    "\n",
    "for i in range(num_ancillae+1):\n",
    "    rects= plt.bar(index + bar_width*i, energias[i], bar_width, alpha=opacity, color=color[i],label='Ancillae' + str(7+i*2))\n",
    "\n",
    "plt.xticks(index + bar_width/2, ('Eigv 1', 'Eigv 2', 'Eigv 3', 'Eigv 4'))\n",
    "plt.xlabel('')\n",
    "plt.ylabel('Eigenvalue')\n",
    "plt.legend()\n",
    "\n",
    "\n",
    "plt.tight_layout()\n",
    "plt.show()"
   ]
  },
  {
   "cell_type": "code",
   "execution_count": null,
   "metadata": {},
   "outputs": [],
   "source": [
    "fig, ax = plt.subplots()\n",
    "\n",
    "index = np.arange(2**q_bits)\n",
    "\n",
    "bar_width = 0.3\n",
    "opacity = 0.8\n",
    "\n",
    "color = ['b', 'g', 'r', 'k']\n",
    "\n",
    "for i in range(num_ancillae+1):\n",
    "    rects= plt.bar(index + bar_width*i, energias[i], bar_width, alpha=opacity, color=color[i],label='Ancillae' + str(7+i*2))\n",
    "\n",
    "plt.xticks(index + bar_width/2, ('Eigv 1', 'Eigv 2', 'Eigv 3', 'Eigv 4'))\n",
    "plt.xlabel('')\n",
    "plt.ylabel('Eigenvalue')\n",
    "plt.legend()\n",
    "\n",
    "\n",
    "plt.tight_layout()\n",
    "plt.show()"
   ]
  },
  {
   "cell_type": "code",
   "execution_count": null,
   "metadata": {},
   "outputs": [],
   "source": []
  }
 ],
 "metadata": {
  "kernelspec": {
   "display_name": "Python 3",
   "language": "python",
   "name": "python3"
  },
  "language_info": {
   "codemirror_mode": {
    "name": "ipython",
    "version": 3
   },
   "file_extension": ".py",
   "mimetype": "text/x-python",
   "name": "python",
   "nbconvert_exporter": "python",
   "pygments_lexer": "ipython3",
   "version": "3.7.3"
  }
 },
 "nbformat": 4,
 "nbformat_minor": 2
}
