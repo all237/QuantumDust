{
 "cells": [
  {
   "cell_type": "code",
   "execution_count": 3,
   "metadata": {},
   "outputs": [],
   "source": [
    "from qiskit import *\n",
    "from qiskit.visualization import *\n",
    "from qiskit.transpiler import PassManager\n",
    "#from qiskit.quantum_info.operators import Operator, Pauli\n",
    "from qiskit.providers.ibmq import least_busy\n",
    "from qiskit.aqua.algorithms import ExactEigensolver\n",
    "from qiskit.aqua.algorithms import QPE\n",
    "from qiskit.aqua import QuantumInstance\n",
    "from qiskit.aqua.components.initial_states import Custom\n",
    "from qiskit.aqua import Operator\n",
    "from qiskit.aqua.components.iqfts import Standard\n",
    "import numpy as np\n",
    "import math\n",
    "import matplotlib.pyplot as plt"
   ]
  },
  {
   "cell_type": "code",
   "execution_count": 2,
   "metadata": {},
   "outputs": [],
   "source": [
    "def matrixHamiltonian(tam, freq): #tam 4, estados 0 a 3\n",
    "    h = 6.582119624 * 10**(-16)\n",
    "    E = [h*freq*(i+1/2) for i in range(tam)]\n",
    "    L = []\n",
    "    for i in range(tam):\n",
    "        L.append(list())\n",
    "        for j in range(tam):\n",
    "            if i==j: L[i].append(E[i])\n",
    "            else: L[i].append(0)\n",
    "    m = np.matrix(L)\n",
    "    return m"
   ]
  },
  {
   "cell_type": "code",
   "execution_count": 1,
   "metadata": {},
   "outputs": [],
   "source": [
    "def eigenvalues(m, q_bits, n_ancillae):\n",
    "    result_qpe = []\n",
    "    for i in range(2**q_bits):\n",
    "        op = Operator(matrix=m)\n",
    "        eig_res = ExactEigensolver(op, k=2**q_bits)\n",
    "        eig_res = eig_res.run()\n",
    "        eigv = eig_res['eigvecs']\n",
    "\n",
    "        state = Custom(q_bits, state_vector=eigv[i])\n",
    "\n",
    "        num_time_slices = 50\n",
    "        iqft = Standard(n_ancillae)\n",
    "\n",
    "        qpe = QPE(op, state, iqft, num_time_slices, n_ancillae, expansion_mode='suzuki',\n",
    "                  expansion_order=2, shallow_circuit_concat=True)\n",
    "\n",
    "        backend = BasicAer.get_backend('qasm_simulator')\n",
    "        quantum_instance = QuantumInstance(backend, shots=100, pass_manager=PassManager())\n",
    "        result_qpe.append(qpe.run(quantum_instance))\n",
    "    return result_qpe"
   ]
  },
  {
   "cell_type": "code",
   "execution_count": 5,
   "metadata": {},
   "outputs": [
    {
     "name": "stdout",
     "output_type": "stream",
     "text": [
      "[[{'translation': 3570799.89602, 'stretch': 1.4002464841485464e-07, 'top_measurement_label': '1001001', 'top_measurement_decimal': 0.5703125, 'eigvals': [502143.73537781276], 'energy': 502143.73537781276}, {'translation': 3570799.89602, 'stretch': 1.4002464841485464e-07, 'top_measurement_label': '1011011', 'top_measurement_decimal': 0.7109375, 'eigvals': [1506431.2061334373], 'energy': 1506431.2061334373}, {'translation': 3570799.89602, 'stretch': 1.4002464841485464e-07, 'top_measurement_label': '1101110', 'top_measurement_decimal': 0.859375, 'eigvals': [2566512.4252643753], 'energy': 2566512.4252643753}, {'translation': 3570799.89602, 'stretch': 1.4002464841485464e-07, 'top_measurement_label': '0000000', 'top_measurement_decimal': 0.0, 'eigvals': [-3570799.89602], 'energy': -3570799.89602}], [{'translation': 3570799.89602, 'stretch': 1.4002464841485464e-07, 'top_measurement_label': '100100101', 'top_measurement_decimal': 0.572265625, 'eigvals': [516092.17247164063], 'energy': 516092.17247164063}, {'translation': 3570799.89602, 'stretch': 1.4002464841485464e-07, 'top_measurement_label': '101101110', 'top_measurement_decimal': 0.71484375, 'eigvals': [1534328.080321094], 'energy': 1534328.080321094}, {'translation': 3570799.89602, 'stretch': 1.4002464841485464e-07, 'top_measurement_label': '110110111', 'top_measurement_decimal': 0.857421875, 'eigvals': [2552563.9881705465], 'energy': 2552563.9881705465}, {'translation': 3570799.89602, 'stretch': 1.4002464841485464e-07, 'top_measurement_label': '000000000', 'top_measurement_decimal': 0.0, 'eigvals': [-3570799.89602], 'energy': -3570799.89602}], [{'translation': 3570799.89602, 'stretch': 1.4002464841485464e-07, 'top_measurement_label': '10010010010', 'top_measurement_decimal': 0.5712890625, 'eigvals': [509117.9539247267], 'energy': 509117.9539247267}, {'translation': 3570799.89602, 'stretch': 1.4002464841485464e-07, 'top_measurement_label': '10110110111', 'top_measurement_decimal': 0.71435546875, 'eigvals': [1530840.971047637], 'energy': 1530840.971047637}, {'translation': 3570799.89602, 'stretch': 1.4002464841485464e-07, 'top_measurement_label': '11011011011', 'top_measurement_decimal': 0.85693359375, 'eigvals': [2549076.8788970895], 'energy': 2549076.8788970895}, {'translation': 3570799.89602, 'stretch': 1.4002464841485464e-07, 'top_measurement_label': '00000000000', 'top_measurement_decimal': 0.0, 'eigvals': [-3570799.89602], 'energy': -3570799.89602}]]\n"
     ]
    }
   ],
   "source": [
    "q_bits = 2                             \n",
    "m = matrixHamiltonian(2**q_bits, 1.55*10**21)\n",
    "results = []\n",
    "for i in range(7,12,2):\n",
    "    results.append(eigenvalues(m, q_bits, i))\n",
    "print(results)"
   ]
  },
  {
   "cell_type": "code",
   "execution_count": 6,
   "metadata": {},
   "outputs": [],
   "source": [
    "num_ancillae = math.floor((12-7)/2)"
   ]
  },
  {
   "cell_type": "code",
   "execution_count": 7,
   "metadata": {},
   "outputs": [],
   "source": [
    "energiasR = [m.item(i,i) for i in range(2**q_bits)]\n",
    "energias = []\n",
    "for j in range(num_ancillae+1):\n",
    "    energias.append([abs(results[j][i][\"energy\"]) for i in range(2**q_bits)])"
   ]
  },
  {
   "cell_type": "code",
   "execution_count": 8,
   "metadata": {},
   "outputs": [
    {
     "data": {
      "image/png": "[encoded data removed]",
      "text/plain": [
       "<Figure size 432x288 with 1 Axes>"
      ]
     },
     "metadata": {
      "needs_background": "light"
     },
     "output_type": "display_data"
    }
   ],
   "source": [
    "fig, ax = plt.subplots()\n",
    "\n",
    "index = np.arange(2**q_bits)\n",
    "\n",
    "bar_width = 0.3\n",
    "opacity = 0.8\n",
    "\n",
    "rects= plt.bar(index, energias[2], bar_width, alpha=opacity, color = 'b', label='Ancillae' + str(11))\n",
    "\n",
    "plt.xticks(index + bar_width/2, ('Eigv 1', 'Eigv 2', 'Eigv 3', 'Eigv 4'))\n",
    "plt.xlabel('')\n",
    "plt.ylabel('Eigenvalue')\n",
    "plt.legend()\n",
    "\n",
    "\n",
    "plt.tight_layout()\n",
    "plt.show()"
   ]
  },
  {
   "cell_type": "code",
   "execution_count": 9,
   "metadata": {},
   "outputs": [],
   "source": [
    "for j in range(num_ancillae+1):\n",
    "    energias[j] = [abs(energias[j][i]-energiasR[i]) for i in range(2**q_bits)]"
   ]
  },
  {
   "cell_type": "code",
   "execution_count": 10,
   "metadata": {},
   "outputs": [
    {
     "data": {
      "image/png": "[encoded data removed]",
      "text/plain": [
       "<Figure size 432x288 with 1 Axes>"
      ]
     },
     "metadata": {
      "needs_background": "light"
     },
     "output_type": "display_data"
    }
   ],
   "source": [
    "fig, ax = plt.subplots()\n",
    "\n",
    "index = np.arange(2**q_bits)\n",
    "\n",
    "bar_width = 0.3\n",
    "opacity = 0.8\n",
    "\n",
    "color = ['b', 'g', 'r', 'k']\n",
    "\n",
    "for i in range(num_ancillae+1):\n",
    "    rects= plt.bar(index + bar_width*i, energias[i], bar_width, alpha=opacity, color=color[i],label='Ancillae' + str(7+i*2))\n",
    "\n",
    "plt.xticks(index + bar_width/2, ('Eigv 1', 'Eigv 2', 'Eigv 3', 'Eigv 4'))\n",
    "plt.xlabel('')\n",
    "plt.ylabel('Eigenvalue')\n",
    "plt.legend()\n",
    "\n",
    "\n",
    "plt.tight_layout()\n",
    "plt.show()"
   ]
  }
 ],
 "metadata": {
  "kernelspec": {
   "display_name": "Python 3",
   "language": "python",
   "name": "python3"
  },
  "language_info": {
   "codemirror_mode": {
    "name": "ipython",
    "version": 3
   },
   "file_extension": ".py",
   "mimetype": "text/x-python",
   "name": "python",
   "nbconvert_exporter": "python",
   "pygments_lexer": "ipython3",
   "version": "3.7.3"
  }
 },
 "nbformat": 4,
 "nbformat_minor": 2
}
