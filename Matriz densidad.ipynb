{
 "cells": [
  {
   "cell_type": "code",
   "execution_count": 129,
   "metadata": {},
   "outputs": [
    {
     "name": "stdout",
     "output_type": "stream",
     "text": [
      "[0.01932374564543737, 7.215624707039738e-06, 2.6943658268000265e-09, 1.0060954530444351e-12]\n",
      "0.13903583698283092\n",
      "[0.999813278994758, 0.019320137496225426, 0.0003733374228119375, 7.214277398340978e-06]\n"
     ]
    },
    {
     "data": {
      "text/plain": [
       "matrix([[9.99626593e-01, 1.93165300e-02, 3.73267713e-04, 7.21293034e-06],\n",
       "        [1.93165300e-02, 3.73267713e-04, 7.21293034e-06, 1.39380831e-07],\n",
       "        [3.73267713e-04, 7.21293034e-06, 1.39380831e-07, 2.69335973e-09],\n",
       "        [7.21293034e-06, 1.39380831e-07, 2.69335973e-09, 5.20457984e-11]])"
      ]
     },
     "execution_count": 129,
     "metadata": {},
     "output_type": "execute_result"
    }
   ],
   "source": [
    "import numpy as np\n",
    "import math\n",
    "\n",
    "def matrizDensidad(tam, t, freq): #tam 4, estados 0 a 3\n",
    "    h, kB = 6.582119624 * 10**(-16), 8.6173324*10**(-5) #ctes    \n",
    "    E = [h*freq*(i+1/2) for i in range(tam)]\n",
    "    #E = [-13.6, -9.37,-5.14,-0.9]\n",
    "    \n",
    "    cNumerador = [math.exp(-E[i]/(kB*t)) for i in range(tam)] \n",
    "    print(cNumerador)\n",
    "    sumDenom = math.sqrt(sum(cNumerador))\n",
    "    print(sumDenom)\n",
    "    c = [math.sqrt(cNumerador[i])/sumDenom for i in range(tam)] \n",
    "    print(c)\n",
    "    return np.matrix([[c[i]*c[j] for j in range(tam)] for i in range(tam)])\n",
    "\n",
    "\n",
    "\n",
    "m = matrizDensidad(4, 15*10**8, 1.55*10**21); m"
   ]
  },
  {
   "cell_type": "code",
   "execution_count": null,
   "metadata": {},
   "outputs": [],
   "source": []
  },
  {
   "cell_type": "code",
   "execution_count": 100,
   "metadata": {},
   "outputs": [
    {
     "data": {
      "text/plain": [
       "1.2682194831093193e-09"
      ]
     },
     "execution_count": 100,
     "metadata": {},
     "output_type": "execute_result"
    }
   ],
   "source": []
  },
  {
   "cell_type": "code",
   "execution_count": null,
   "metadata": {},
   "outputs": [],
   "source": []
  },
  {
   "cell_type": "code",
   "execution_count": 104,
   "metadata": {},
   "outputs": [
    {
     "data": {
      "text/plain": [
       "4"
      ]
     },
     "execution_count": 104,
     "metadata": {},
     "output_type": "execute_result"
    }
   ],
   "source": [
    "c = [1,2,3,4]\n",
    "matriz = np.matrix([[c[i]*c[j] for j in range(4)] for i in range(4)])\n",
    "matriz.item(1,1)"
   ]
  }
 ],
 "metadata": {
  "kernelspec": {
   "display_name": "Python 3",
   "language": "python",
   "name": "python3"
  },
  "language_info": {
   "codemirror_mode": {
    "name": "ipython",
    "version": 3
   },
   "file_extension": ".py",
   "mimetype": "text/x-python",
   "name": "python",
   "nbconvert_exporter": "python",
   "pygments_lexer": "ipython3",
   "version": "3.7.3"
  }
 },
 "nbformat": 4,
 "nbformat_minor": 2
}
