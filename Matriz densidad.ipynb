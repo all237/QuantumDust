{
 "cells": [
  {
   "cell_type": "code",
   "execution_count": 69,
   "metadata": {},
   "outputs": [],
   "source": [
    "import numpy as np\n",
    "import math\n",
    "\n",
    "def matrizDensidad(tam, t, freq): #tam 4, estados 0 a 3\n",
    "    h, kB = 6.582119624 * 10**(-16), 8.6173324*10**(-5) #ctes    \n",
    "    E = [h*freq*(i+1/2) for i in range(tam)]\n",
    "    \n",
    "    cNumerador = [math.exp(-E[i]/(kB*t)) for i in range(tam)] \n",
    "    print(cNumerador)\n",
    "    sumDenom = math.sqrt(sum(cNumerador))\n",
    "    print(sumDenom)\n",
    "    c = [math.sqrt(cNumerador[i])/sumDenom for i in range(tam)] \n",
    "    print(c)\n",
    "    return np.matrix([[c[i]*c[j] for j in range(tam)] for i in range(tam)])"
   ]
  },
  {
   "cell_type": "code",
   "execution_count": 83,
   "metadata": {},
   "outputs": [
    {
     "name": "stdout",
     "output_type": "stream",
     "text": [
      "[0.9999999996180883, 0.9999999988542649, 0.9999999980904416, 0.9999999973266183]\n",
      "1.9999999984723533\n",
      "[0.5000000002864338, 0.500000000095478, 0.49999999990452204, 0.49999999971356623]\n"
     ]
    },
    {
     "data": {
      "text/plain": [
       "matrix([[0.25, 0.25, 0.25, 0.25],\n",
       "        [0.25, 0.25, 0.25, 0.25],\n",
       "        [0.25, 0.25, 0.25, 0.25],\n",
       "        [0.25, 0.25, 0.25, 0.25]])"
      ]
     },
     "execution_count": 83,
     "metadata": {},
     "output_type": "execute_result"
    }
   ],
   "source": [
    "matrizDensidad(4, 10**10, 10**22)"
   ]
  },
  {
   "cell_type": "code",
   "execution_count": null,
   "metadata": {},
   "outputs": [],
   "source": []
  },
  {
   "cell_type": "code",
   "execution_count": 20,
   "metadata": {},
   "outputs": [
    {
     "data": {
      "text/plain": [
       "matrix([[1, 2, 3, 4]])"
      ]
     },
     "execution_count": 20,
     "metadata": {},
     "output_type": "execute_result"
    }
   ],
   "source": [
    "c = [1,2,3,4]\n",
    "matriz = np.matrix([[c[i]*c[j] for j in range(4)] for i in range(4)])\n",
    "matriz[0]"
   ]
  }
 ],
 "metadata": {
  "kernelspec": {
   "display_name": "Python 3",
   "language": "python",
   "name": "python3"
  },
  "language_info": {
   "codemirror_mode": {
    "name": "ipython",
    "version": 3
   },
   "file_extension": ".py",
   "mimetype": "text/x-python",
   "name": "python",
   "nbconvert_exporter": "python",
   "pygments_lexer": "ipython3",
   "version": "3.7.3"
  }
 },
 "nbformat": 4,
 "nbformat_minor": 2
}
