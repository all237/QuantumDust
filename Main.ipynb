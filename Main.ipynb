{
 "cells": [
  {
   "cell_type": "code",
   "execution_count": 2,
   "metadata": {},
   "outputs": [],
   "source": [
    "from qiskit import *\n",
    "from qiskit.visualization import *\n",
    "from qiskit.transpiler import PassManager\n",
    "#from qiskit.quantum_info.operators import Operator, Pauli\n",
    "from qiskit.providers.ibmq import least_busy\n",
    "from qiskit.aqua.algorithms import ExactEigensolver\n",
    "from qiskit.aqua.algorithms import QPE\n",
    "from qiskit.aqua import QuantumInstance\n",
    "from qiskit.aqua.components.initial_states import Custom\n",
    "from qiskit.aqua import Operator\n",
    "from qiskit.aqua.components.iqfts import Standard\n",
    "import numpy as np\n",
    "import math"
   ]
  },
  {
   "cell_type": "code",
   "execution_count": 3,
   "metadata": {},
   "outputs": [],
   "source": [
    "IBMQ.load_accounts()"
   ]
  },
  {
   "cell_type": "code",
   "execution_count": 4,
   "metadata": {},
   "outputs": [],
   "source": [
    "def matrixHamiltonian(tam, freq): #tam 4, estados 0 a 3\n",
    "    h = 6.582119624 * 10**(-16)\n",
    "    E = [h*freq*(i+1/2) for i in range(tam)]\n",
    "    L = []\n",
    "    for i in range(tam):\n",
    "        L.append(list())\n",
    "        for j in range(tam):\n",
    "            if i==j: L[i].append(E[i])\n",
    "            else: L[i].append(0)\n",
    "    m = np.matrix(L)\n",
    "    return m\n"
   ]
  },
  {
   "cell_type": "code",
   "execution_count": 9,
   "metadata": {},
   "outputs": [
    {
     "data": {
      "text/plain": [
       "9.873179436"
      ]
     },
     "execution_count": 9,
     "metadata": {},
     "output_type": "execute_result"
    }
   ],
   "source": [
    "m.item(1,1)"
   ]
  },
  {
   "cell_type": "code",
   "execution_count": null,
   "metadata": {},
   "outputs": [],
   "source": [
    "m = matrixHamiltonian(4, 10**16)\n",
    "op = Operator(matrix=m)\n",
    "eig_res = ExactEigensolver(op, k=4)\n",
    "eig_res = eig_res.run()\n",
    "eigv = eig_res['eigvecs']\n",
    "\n",
    "state = [Custom(2, state_vector=eigv[i]) for i in range(4)]\n",
    "\n",
    "num_time_slices = 50\n",
    "n_ancillae = 9\n",
    "iqft = Standard(n_ancillae)\n",
    "results=[]\n",
    "for i in range(4):\n",
    "    qpe = QPE(op, state[i], iqft, num_time_slices, n_ancillae, expansion_mode='suzuki',\n",
    "              expansion_order=2, shallow_circuit_concat=True)\n",
    "\n",
    "    backend = BasicAer.get_backend('qasm_simulator')\n",
    "    quantum_instance = QuantumInstance(backend, shots=100, pass_manager=PassManager())\n",
    "    result_qpe = qpe.run(quantum_instance)\n",
    "    results.append(result_qpe['energy'])\n",
    "print(results)"
   ]
  },
  {
   "cell_type": "code",
   "execution_count": 35,
   "metadata": {},
   "outputs": [
    {
     "data": {
      "text/plain": [
       "3.3296269191718757"
      ]
     },
     "execution_count": 35,
     "metadata": {},
     "output_type": "execute_result"
    }
   ],
   "source": [
    "result_qpe['energy']"
   ]
  },
  {
   "cell_type": "code",
   "execution_count": 41,
   "metadata": {},
   "outputs": [],
   "source": [
    "Custom?"
   ]
  }
 ],
 "metadata": {
  "kernelspec": {
   "display_name": "Python 3",
   "language": "python",
   "name": "python3"
  },
  "language_info": {
   "codemirror_mode": {
    "name": "ipython",
    "version": 3
   },
   "file_extension": ".py",
   "mimetype": "text/x-python",
   "name": "python",
   "nbconvert_exporter": "python",
   "pygments_lexer": "ipython3",
   "version": "3.7.3"
  }
 },
 "nbformat": 4,
 "nbformat_minor": 2
}
