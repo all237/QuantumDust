{
 "cells": [
  {
   "cell_type": "code",
   "execution_count": 2,
   "metadata": {},
   "outputs": [],
   "source": [
    "from qiskit import *\n",
    "from qiskit.visualization import *\n",
    "from qiskit.transpiler import PassManager\n",
    "#from qiskit.quantum_info.operators import Operator, Pauli\n",
    "from qiskit.providers.ibmq import least_busy\n",
    "from qiskit.aqua.algorithms import ExactEigensolver\n",
    "from qiskit.aqua.algorithms import QPE\n",
    "from qiskit.aqua import QuantumInstance\n",
    "from qiskit.aqua.components.initial_states import Custom\n",
    "from qiskit.aqua import Operator\n",
    "from qiskit.aqua.components.iqfts import Standard\n",
    "import numpy as np\n",
    "import math"
   ]
  },
  {
   "cell_type": "code",
   "execution_count": 3,
   "metadata": {},
   "outputs": [],
   "source": [
    "IBMQ.load_accounts()"
   ]
  },
  {
   "cell_type": "code",
   "execution_count": 4,
   "metadata": {},
   "outputs": [],
   "source": [
    "def matrixHamiltonian(tam, freq): #tam 4, estados 0 a 3\n",
    "    h = 6.582119624 * 10**(-16)\n",
    "    E = [h*freq*(i+1/2) for i in range(tam)]\n",
    "    L = []\n",
    "    for i in range(tam):\n",
    "        L.append(list())\n",
    "        for j in range(tam):\n",
    "            if i==j: L[i].append(E[i])\n",
    "            else: L[i].append(0)\n",
    "    m = np.matrix(L)\n",
    "    return m\n"
   ]
  },
  {
   "cell_type": "code",
   "execution_count": 23,
   "metadata": {},
   "outputs": [
    {
     "data": {
      "text/plain": [
       "3.291059812"
      ]
     },
     "execution_count": 23,
     "metadata": {},
     "output_type": "execute_result"
    }
   ],
   "source": [
    "m.item(0)"
   ]
  },
  {
   "cell_type": "code",
   "execution_count": 22,
   "metadata": {},
   "outputs": [
    {
     "name": "stdout",
     "output_type": "stream",
     "text": [
      "The ground state energy as computed by QPE is: 3.2846319608046883\n",
      "The ground state energy as computed by QPE is: 9.876393361597657\n",
      "The ground state energy as computed by QPE is: 16.445657283207026\n",
      "The ground state energy as computed by QPE is: -23.037418683999995\n"
     ]
    }
   ],
   "source": [
    "m = matrixHamiltonian(4, 10**16)\n",
    "q_bits = 2\n",
    "\n",
    "for i in range(2**q_bits):\n",
    "    op = Operator(matrix=m)\n",
    "    eig_res = ExactEigensolver(op, k=2**q_bits)\n",
    "    eig_res = eig_res.run()\n",
    "    eigv = eig_res['eigvecs']\n",
    "\n",
    "    state = Custom(2, state_vector=eigv[i])\n",
    "\n",
    "    num_time_slices = 50\n",
    "    n_ancillae = 11\n",
    "    iqft = Standard(n_ancillae)\n",
    "\n",
    "    qpe = QPE(op, state, iqft, num_time_slices, n_ancillae, expansion_mode='suzuki',\n",
    "              expansion_order=2, shallow_circuit_concat=True)\n",
    "\n",
    "    backend = BasicAer.get_backend('qasm_simulator')\n",
    "    quantum_instance = QuantumInstance(backend, shots=100, pass_manager=PassManager())\n",
    "    result_qpe[i] = qpe.run(quantum_instance)\n",
    "    print('The ground state energy as computed by QPE is: {}'.format(result_qpe[i]['energy']))"
   ]
  },
  {
   "cell_type": "code",
   "execution_count": 35,
   "metadata": {},
   "outputs": [
    {
     "data": {
      "text/plain": [
       "3.3296269191718757"
      ]
     },
     "execution_count": 35,
     "metadata": {},
     "output_type": "execute_result"
    }
   ],
   "source": [
    "result_qpe['energy']"
   ]
  },
  {
   "cell_type": "code",
   "execution_count": 12,
   "metadata": {},
   "outputs": [],
   "source": [
    "[3.3296269191718757, 0.7148437499999998, 0.9296875, -1.0]"
   ]
  },
  {
   "cell_type": "code",
   "execution_count": null,
   "metadata": {},
   "outputs": [],
   "source": [
    " 3.2846319608046883\n",
    "9.876393361597657\n",
    "16.445657283207026\n",
    "-23.037418683999995"
   ]
  },
  {
   "cell_type": "code",
   "execution_count": 24,
   "metadata": {},
   "outputs": [
    {
     "data": {
      "text/plain": [
       "matrix([[ 3.29105981,  0.        ,  0.        ,  0.        ],\n",
       "        [ 0.        ,  9.87317944,  0.        ,  0.        ],\n",
       "        [ 0.        ,  0.        , 16.45529906,  0.        ],\n",
       "        [ 0.        ,  0.        ,  0.        , 23.03741868]])"
      ]
     },
     "execution_count": 24,
     "metadata": {},
     "output_type": "execute_result"
    }
   ],
   "source": [
    "m"
   ]
  },
  {
   "cell_type": "code",
   "execution_count": null,
   "metadata": {},
   "outputs": [],
   "source": []
  }
 ],
 "metadata": {
  "kernelspec": {
   "display_name": "Python 3",
   "language": "python",
   "name": "python3"
  },
  "language_info": {
   "codemirror_mode": {
    "name": "ipython",
    "version": 3
   },
   "file_extension": ".py",
   "mimetype": "text/x-python",
   "name": "python",
   "nbconvert_exporter": "python",
   "pygments_lexer": "ipython3",
   "version": "3.7.3"
  }
 },
 "nbformat": 4,
 "nbformat_minor": 2
}
