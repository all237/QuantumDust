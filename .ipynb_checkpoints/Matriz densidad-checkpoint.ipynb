{
 "cells": [
  {
   "cell_type": "code",
   "execution_count": 134,
   "metadata": {},
   "outputs": [
    {
     "ename": "SyntaxError",
     "evalue": "can't assign to function call (<ipython-input-134-c75f0788cc06>, line 16)",
     "output_type": "error",
     "traceback": [
      "\u001b[0;36m  File \u001b[0;32m\"<ipython-input-134-c75f0788cc06>\"\u001b[0;36m, line \u001b[0;32m16\u001b[0m\n\u001b[0;31m    m.itemset(tam-1,tam-1) = 1 - sum([m.item(i,i) for i in range(4)])\u001b[0m\n\u001b[0m    ^\u001b[0m\n\u001b[0;31mSyntaxError\u001b[0m\u001b[0;31m:\u001b[0m can't assign to function call\n"
     ]
    }
   ],
   "source": [
    "import numpy as np\n",
    "import math\n",
    "\n",
    "def matrizDensidad(tam, t, freq): #tam 4, estados 0 a 3\n",
    "    h, kB = 6.582119624 * 10**(-16), 8.6173324*10**(-5) #ctes    \n",
    "    E = [h*freq*(i+1/2) for i in range(tam)]\n",
    "    #E = [-13.6, -9.37,-5.14,-0.9]\n",
    "    \n",
    "    cNumerador = [math.exp(-E[i]/(kB*t)) for i in range(tam)] \n",
    "    print(cNumerador)\n",
    "    sumAux = sumDenom\n",
    "    sumDenom = math.sqrt(sum(cNumerador))\n",
    "    print(sumDenom)\n",
    "    c = [math.sqrt(cNumerador[i])/sumDenom for i in range(tam)]\n",
    "    \n",
    "    \n",
    "    c[tam-1] = 1 - sum([math.sqrt(cNumerador[i])/sumDenom for i in range(tam)])\n",
    "    \n",
    "    print(c)\n",
    "    m = np.matrix([[c[i]*c[j] for j in range(tam)] for i in range(tam)])\n",
    "    return (m,c)\n",
    "\n",
    "\n",
    "m = matrizDensidad(4, 15*10**8, 1.55*10**21); m"
   ]
  },
  {
   "cell_type": "code",
   "execution_count": 132,
   "metadata": {},
   "outputs": [
    {
     "data": {
      "text/plain": [
       "1.0"
      ]
     },
     "execution_count": 132,
     "metadata": {},
     "output_type": "execute_result"
    }
   ],
   "source": [
    "sum([m.item(i,i) for i in range(4)])"
   ]
  },
  {
   "cell_type": "code",
   "execution_count": null,
   "metadata": {},
   "outputs": [],
   "source": []
  },
  {
   "cell_type": "code",
   "execution_count": null,
   "metadata": {},
   "outputs": [],
   "source": []
  },
  {
   "cell_type": "code",
   "execution_count": 104,
   "metadata": {},
   "outputs": [
    {
     "data": {
      "text/plain": [
       "4"
      ]
     },
     "execution_count": 104,
     "metadata": {},
     "output_type": "execute_result"
    }
   ],
   "source": [
    "c = [1,2,3,4]\n",
    "matriz = np.matrix([[c[i]*c[j] for j in range(4)] for i in range(4)])\n",
    "matriz.item(1,1)"
   ]
  },
  {
   "cell_type": "code",
   "execution_count": null,
   "metadata": {},
   "outputs": [],
   "source": []
  },
  {
   "cell_type": "code",
   "execution_count": null,
   "metadata": {},
   "outputs": [],
   "source": [
    "import math\n",
    "from qiskit import QuantumRegister, ClassicalRegister, QuantumCircuit, execute, BasicAer\n",
    "\n",
    "\n",
    "###############################################################\n",
    "# Make a quantum circuit for state initialization.\n",
    "###############################################################\n",
    "qr = QuantumRegister(4, \"qr\")\n",
    "cr = ClassicalRegister(4, 'cr')\n",
    "circuit = QuantumCircuit(qr, cr, name=\"initializer_circ\")\n",
    "\n",
    "desired_vector = [\n",
    "    1 / math.sqrt(4) * complex(0, 1),\n",
    "    1 / math.sqrt(8) * complex(1, 0),\n",
    "    0,\n",
    "    0,\n",
    "    0,\n",
    "    0,\n",
    "    0,\n",
    "    0,\n",
    "    1 / math.sqrt(8) * complex(1, 0),\n",
    "    1 / math.sqrt(8) * complex(0, 1),\n",
    "    0,\n",
    "    0,\n",
    "    0,\n",
    "    0,\n",
    "    1 / math.sqrt(4) * complex(1, 0),\n",
    "    1 / math.sqrt(8) * complex(1, 0)]\n",
    "\n",
    "circuit.initialize(desired_vector, [qr[0], qr[1], qr[2], qr[3]])\n",
    "\n",
    "circuit.measure(qr[0], cr[0])\n",
    "circuit.measure(qr[1], cr[1])\n",
    "circuit.measure(qr[2], cr[2])\n",
    "circuit.measure(qr[3], cr[3])\n",
    "\n",
    "print(circuit.draw())\n",
    "\n",
    "###############################################################\n",
    "# Execute on a simulator backend.\n",
    "###############################################################\n",
    "shots = 10000\n",
    "\n",
    "# Desired vector\n",
    "print(\"Desired probabilities: \")\n",
    "print(str(list(map(lambda x: format(abs(x * x), '.3f'), desired_vector))))\n",
    "\n",
    "# Initialize on local simulator\n",
    "sim_backend = BasicAer.get_backend('qasm_simulator')\n",
    "job = execute(circuit, sim_backend, shots=shots)\n",
    "result = job.result()\n",
    "\n",
    "n_qubits_qureg = qr.size\n",
    "counts = result.get_counts(circuit)\n",
    "\n",
    "qubit_strings = [format(i, '0%sb' % n_qubits_qureg) for\n",
    "                 i in range(2 ** n_qubits_qureg)]\n",
    "print(\"Probabilities from simulator: \")\n",
    "print([format(counts.get(s, 0) / shots, '.3f') for\n",
    "       s in qubit_strings])\n"
   ]
  }
 ],
 "metadata": {
  "kernelspec": {
   "display_name": "Python 3",
   "language": "python",
   "name": "python3"
  },
  "language_info": {
   "codemirror_mode": {
    "name": "ipython",
    "version": 3
   },
   "file_extension": ".py",
   "mimetype": "text/x-python",
   "name": "python",
   "nbconvert_exporter": "python",
   "pygments_lexer": "ipython3",
   "version": "3.7.3"
  }
 },
 "nbformat": 4,
 "nbformat_minor": 2
}
