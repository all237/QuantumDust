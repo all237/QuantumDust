{
 "cells": [
  {
   "cell_type": "code",
   "execution_count": 194,
   "metadata": {},
   "outputs": [],
   "source": [
    "from qiskit import *\n",
    "from qiskit.visualization import *\n",
    "from qiskit.quantum_info.operators import Operator, Pauli\n",
    "from qiskit.providers.ibmq import least_busy\n",
    "import numpy as np\n",
    "import math"
   ]
  },
  {
   "cell_type": "code",
   "execution_count": 201,
   "metadata": {},
   "outputs": [],
   "source": [
    "IBMQ.load_accounts()"
   ]
  },
  {
   "cell_type": "code",
   "execution_count": 227,
   "metadata": {},
   "outputs": [],
   "source": [
    "class DustCircuit(QuantumCircuit):\n",
    "    def __init__(self, n_states, t, freq):\n",
    "        n = math.ceil(math.log(n_states,2))\n",
    "        self.q = QuantumRegister(n)\n",
    "        self.c = ClassicalRegister(n)\n",
    "        self.dict_results = None\n",
    "        self.statevector = None\n",
    "        self.result = None        \n",
    "        super().__init__(self.q,self.c)    \n",
    "        coefs = DustCircuit._generate_coefs(n_states, t, freq)\n",
    "        self.initialize(coefs, self.q)\n",
    "    def simulate(self, nshots = 1000,backend=BasicAer.get_backend('qasm_simulator')):\n",
    "        self.result = execute(self, backend, shots=nshots).result()        \n",
    "        self.counts = self.result.get_counts(self)\n",
    "        self.dict_results = {}\n",
    "        for key in list(self.counts.keys()):\n",
    "            self.dict_results[int(key,2)] = self.counts[key]\n",
    "        return self.result\n",
    "    def simulate_statevector(self):\n",
    "        self.result = execute(self, BasicAer.get_backend('statevector_simulator')).result()\n",
    "        self.statevector = self.result.get_statevector(self)\n",
    "        return self.result\n",
    "    def execute(self, nshots = 1000, max_credits=3):\n",
    "        large_enough_devices = IBMQ.backends(filters=lambda x: x.configuration().n_qubits < 10 and\n",
    "                                                       not x.configuration().simulator)\n",
    "        backend = least_busy(large_enough_devices)\n",
    "        self.result = execute(self, backend, shots=nshots, max_credits=max_credits).result()\n",
    "        self.counts = self.result.get_counts(self)\n",
    "        self.dict_results = {}\n",
    "        for key in list(self.counts.keys()):\n",
    "            self.dict_results[int(key,2)] = self.counts[key]\n",
    "        return self.result\n",
    "    def plot(self, how='histogram'):\n",
    "        fig = None\n",
    "        if (how == 'histogram'): fig = \\\n",
    "         plot_histogram(self.dict_results)\n",
    "        elif (how == 'state_city'): fig = \\\n",
    "         plot_state_city(self.statevector)\n",
    "        return fig    \n",
    "    def exec_and_simulate(self, nshots = 1000, bbackend = BasicAer.get_backend('qasm_simulator')):\n",
    "        self.execute(nshots, backend=bbackend)\n",
    "        sim_results = self.dict_results\n",
    "        \n",
    "        self.execute(nshots, backend, max_credits=3)\n",
    "        self.dict_results = [sim_results, self.dict_results]        \n",
    "    @staticmethod\n",
    "    def _generate_coefs(tam, t, freq):\n",
    "        h, kB = 6.582119624 * 10**(-16), 8.6173324*10**(-5) #ctes    \n",
    "        E = [h*freq*(i+1/2) for i in range(tam)]\n",
    "        cNumerador = [math.exp(-E[i]/(kB*t)) for i in range(tam)]     \n",
    "        sumDenom = math.sqrt(sum(cNumerador))\n",
    "        c = [math.sqrt(cNumerador[i])/sumDenom for i in range(tam)]\n",
    "        return c"
   ]
  },
  {
   "cell_type": "code",
   "execution_count": 222,
   "metadata": {},
   "outputs": [],
   "source": [
    "\n",
    "def matrizDensidad(tam, t, freq): #tam 4, estados 0 a 3\n",
    "    h, kB = 6.582119624 * 10**(-16), 8.6173324*10**(-5) #ctes    \n",
    "    E = [h*freq*(i+1/2) for i in range(tam)]\n",
    "    #E = [-13.6, -9.37,-5.14,-0.9]\n",
    "    \n",
    "    cNumerador = [math.exp(-E[i]/(kB*t)) for i in range(tam)] \n",
    "    print(cNumerador)\n",
    "    sumDenom = math.sqrt(sum(cNumerador))\n",
    "    print(sumDenom)\n",
    "    c = [math.sqrt(cNumerador[i])/sumDenom for i in range(tam)]\n",
    "    \n",
    "    \n",
    "    #c[tam-1] = 1 - sum([math.sqrt(cNumerador[i])/sumDenom for i in range(tam)])\n",
    "    \n",
    "    print(c)\n",
    "    m = np.matrix([[c[i]*c[j] for j in range(tam)] for i in range(tam)])\n",
    "    return (m,c)\n",
    "\n",
    "coef = coeficiente(4, 15*10**9, 1.55*10**21)\n",
    "#map(lambda x: x*x, c)\n"
   ]
  },
  {
   "cell_type": "code",
   "execution_count": 223,
   "metadata": {},
   "outputs": [
    {
     "name": "stdout",
     "output_type": "stream",
     "text": [
      "           ┌──────────────────────────────────────────────┐┌─┐   \n",
      "q272_0: |0>┤0                                             ├┤M├───\n",
      "           │  initialize(0.52946,0.50897,0.48928,0.47035) │└╥┘┌─┐\n",
      "q272_1: |0>┤1                                             ├─╫─┤M├\n",
      "           └──────────────────────────────────────────────┘ ║ └╥┘\n",
      " c119_0: 0 ═════════════════════════════════════════════════╩══╬═\n",
      "                                                               ║ \n",
      " c119_1: 0 ════════════════════════════════════════════════════╩═\n",
      "                                                                 \n"
     ]
    }
   ],
   "source": [
    "t, freq = 15*10**10, 1.55*10**21 \n",
    "c = DustCircuit(4, t, freq)\n",
    "c.measure(c.q, c.c)\n",
    "#c.exec_and_show()\n",
    "large_enough_devices = IBMQ.backends(filters=lambda x: x.configuration().n_qubits < 10 and\n",
    "                                                       not x.configuration().simulator)\n",
    "backend = least_busy(large_enough_devices)\n",
    "job = execute(c, backend, shots=1000, max_credits=5)\n",
    "print (c)"
   ]
  },
  {
   "cell_type": "code",
   "execution_count": 224,
   "metadata": {},
   "outputs": [
    {
     "data": {
      "image/png": "[encoded data removed]",
      "text/plain": [
       "<Figure size 504x360 with 1 Axes>"
      ]
     },
     "execution_count": 224,
     "metadata": {},
     "output_type": "execute_result"
    }
   ],
   "source": [
    "plot_histogram(job.result().get_counts())"
   ]
  },
  {
   "cell_type": "code",
   "execution_count": 230,
   "metadata": {},
   "outputs": [
    {
     "ename": "BrokenProcessPool",
     "evalue": "A child process terminated abruptly, the process pool is not usable anymore",
     "output_type": "error",
     "traceback": [
      "\u001b[0;31m---------------------------------------------------------------------------\u001b[0m",
      "\u001b[0;31mBrokenProcessPool\u001b[0m                         Traceback (most recent call last)",
      "\u001b[0;32m<ipython-input-230-e555ff573f4a>\u001b[0m in \u001b[0;36m<module>\u001b[0;34m\u001b[0m\n\u001b[1;32m      3\u001b[0m \u001b[0mc\u001b[0m\u001b[0;34m.\u001b[0m\u001b[0mmeasure\u001b[0m\u001b[0;34m(\u001b[0m\u001b[0mc\u001b[0m\u001b[0;34m.\u001b[0m\u001b[0mq\u001b[0m\u001b[0;34m,\u001b[0m \u001b[0mc\u001b[0m\u001b[0;34m.\u001b[0m\u001b[0mc\u001b[0m\u001b[0;34m)\u001b[0m\u001b[0;34m\u001b[0m\u001b[0;34m\u001b[0m\u001b[0m\n\u001b[1;32m      4\u001b[0m \u001b[0mbackend\u001b[0m \u001b[0;34m=\u001b[0m \u001b[0mBasicAer\u001b[0m\u001b[0;34m.\u001b[0m\u001b[0mget_backend\u001b[0m\u001b[0;34m(\u001b[0m\u001b[0;34m'qasm_simulator'\u001b[0m\u001b[0;34m)\u001b[0m\u001b[0;34m\u001b[0m\u001b[0;34m\u001b[0m\u001b[0m\n\u001b[0;32m----> 5\u001b[0;31m \u001b[0mc\u001b[0m\u001b[0;34m.\u001b[0m\u001b[0mresult\u001b[0m \u001b[0;34m=\u001b[0m \u001b[0mexecute\u001b[0m\u001b[0;34m(\u001b[0m\u001b[0mc\u001b[0m\u001b[0;34m,\u001b[0m \u001b[0mbackend\u001b[0m\u001b[0;34m,\u001b[0m \u001b[0mshots\u001b[0m\u001b[0;34m=\u001b[0m\u001b[0;36m1000\u001b[0m\u001b[0;34m)\u001b[0m\u001b[0;34m.\u001b[0m\u001b[0mresult\u001b[0m\u001b[0;34m(\u001b[0m\u001b[0;34m)\u001b[0m\u001b[0;34m\u001b[0m\u001b[0;34m\u001b[0m\u001b[0m\n\u001b[0m\u001b[1;32m      6\u001b[0m \u001b[0mc\u001b[0m\u001b[0;34m.\u001b[0m\u001b[0mcounts\u001b[0m \u001b[0;34m=\u001b[0m \u001b[0mc\u001b[0m\u001b[0;34m.\u001b[0m\u001b[0mresult\u001b[0m\u001b[0;34m.\u001b[0m\u001b[0mget_counts\u001b[0m\u001b[0;34m(\u001b[0m\u001b[0mself\u001b[0m\u001b[0;34m)\u001b[0m\u001b[0;34m\u001b[0m\u001b[0;34m\u001b[0m\u001b[0m\n\u001b[1;32m      7\u001b[0m \u001b[0mc\u001b[0m\u001b[0;34m.\u001b[0m\u001b[0mdict_results\u001b[0m \u001b[0;34m=\u001b[0m \u001b[0;34m{\u001b[0m\u001b[0;34m}\u001b[0m\u001b[0;34m\u001b[0m\u001b[0;34m\u001b[0m\u001b[0m\n",
      "\u001b[0;32m~/bin/anaconda/lib/python3.7/site-packages/qiskit/execute.py\u001b[0m in \u001b[0;36mexecute\u001b[0;34m(experiments, backend, basis_gates, coupling_map, backend_properties, initial_layout, seed_transpiler, optimization_level, pass_manager, qobj_id, qobj_header, shots, memory, max_credits, seed_simulator, default_qubit_los, default_meas_los, schedule_los, meas_level, meas_return, memory_slots, memory_slot_size, rep_time, parameter_binds, seed, seed_mapper, config, circuits, **run_config)\u001b[0m\n\u001b[1;32m    246\u001b[0m \u001b[0;34m\u001b[0m\u001b[0m\n\u001b[1;32m    247\u001b[0m     \u001b[0;31m# executing the circuits on the backend and returning the job\u001b[0m\u001b[0;34m\u001b[0m\u001b[0;34m\u001b[0m\u001b[0;34m\u001b[0m\u001b[0m\n\u001b[0;32m--> 248\u001b[0;31m     \u001b[0;32mreturn\u001b[0m \u001b[0mbackend\u001b[0m\u001b[0;34m.\u001b[0m\u001b[0mrun\u001b[0m\u001b[0;34m(\u001b[0m\u001b[0mqobj\u001b[0m\u001b[0;34m,\u001b[0m \u001b[0;34m**\u001b[0m\u001b[0mrun_config\u001b[0m\u001b[0;34m)\u001b[0m\u001b[0;34m\u001b[0m\u001b[0;34m\u001b[0m\u001b[0m\n\u001b[0m",
      "\u001b[0;32m~/bin/anaconda/lib/python3.7/site-packages/qiskit/providers/basicaer/qasm_simulator.py\u001b[0m in \u001b[0;36mrun\u001b[0;34m(self, qobj, backend_options)\u001b[0m\n\u001b[1;32m    408\u001b[0m         \u001b[0mjob_id\u001b[0m \u001b[0;34m=\u001b[0m \u001b[0mstr\u001b[0m\u001b[0;34m(\u001b[0m\u001b[0muuid\u001b[0m\u001b[0;34m.\u001b[0m\u001b[0muuid4\u001b[0m\u001b[0;34m(\u001b[0m\u001b[0;34m)\u001b[0m\u001b[0;34m)\u001b[0m\u001b[0;34m\u001b[0m\u001b[0;34m\u001b[0m\u001b[0m\n\u001b[1;32m    409\u001b[0m         \u001b[0mjob\u001b[0m \u001b[0;34m=\u001b[0m \u001b[0mBasicAerJob\u001b[0m\u001b[0;34m(\u001b[0m\u001b[0mself\u001b[0m\u001b[0;34m,\u001b[0m \u001b[0mjob_id\u001b[0m\u001b[0;34m,\u001b[0m \u001b[0mself\u001b[0m\u001b[0;34m.\u001b[0m\u001b[0m_run_job\u001b[0m\u001b[0;34m,\u001b[0m \u001b[0mqobj\u001b[0m\u001b[0;34m)\u001b[0m\u001b[0;34m\u001b[0m\u001b[0;34m\u001b[0m\u001b[0m\n\u001b[0;32m--> 410\u001b[0;31m         \u001b[0mjob\u001b[0m\u001b[0;34m.\u001b[0m\u001b[0msubmit\u001b[0m\u001b[0;34m(\u001b[0m\u001b[0;34m)\u001b[0m\u001b[0;34m\u001b[0m\u001b[0;34m\u001b[0m\u001b[0m\n\u001b[0m\u001b[1;32m    411\u001b[0m         \u001b[0;32mreturn\u001b[0m \u001b[0mjob\u001b[0m\u001b[0;34m\u001b[0m\u001b[0;34m\u001b[0m\u001b[0m\n\u001b[1;32m    412\u001b[0m \u001b[0;34m\u001b[0m\u001b[0m\n",
      "\u001b[0;32m~/bin/anaconda/lib/python3.7/site-packages/qiskit/providers/basicaer/basicaerjob.py\u001b[0m in \u001b[0;36msubmit\u001b[0;34m(self)\u001b[0m\n\u001b[1;32m     76\u001b[0m \u001b[0;34m\u001b[0m\u001b[0m\n\u001b[1;32m     77\u001b[0m         \u001b[0mvalidate_qobj_against_schema\u001b[0m\u001b[0;34m(\u001b[0m\u001b[0mself\u001b[0m\u001b[0;34m.\u001b[0m\u001b[0m_qobj\u001b[0m\u001b[0;34m)\u001b[0m\u001b[0;34m\u001b[0m\u001b[0;34m\u001b[0m\u001b[0m\n\u001b[0;32m---> 78\u001b[0;31m         \u001b[0mself\u001b[0m\u001b[0;34m.\u001b[0m\u001b[0m_future\u001b[0m \u001b[0;34m=\u001b[0m \u001b[0mself\u001b[0m\u001b[0;34m.\u001b[0m\u001b[0m_executor\u001b[0m\u001b[0;34m.\u001b[0m\u001b[0msubmit\u001b[0m\u001b[0;34m(\u001b[0m\u001b[0mself\u001b[0m\u001b[0;34m.\u001b[0m\u001b[0m_fn\u001b[0m\u001b[0;34m,\u001b[0m \u001b[0mself\u001b[0m\u001b[0;34m.\u001b[0m\u001b[0m_job_id\u001b[0m\u001b[0;34m,\u001b[0m \u001b[0mself\u001b[0m\u001b[0;34m.\u001b[0m\u001b[0m_qobj\u001b[0m\u001b[0;34m)\u001b[0m\u001b[0;34m\u001b[0m\u001b[0;34m\u001b[0m\u001b[0m\n\u001b[0m\u001b[1;32m     79\u001b[0m \u001b[0;34m\u001b[0m\u001b[0m\n\u001b[1;32m     80\u001b[0m     \u001b[0;34m@\u001b[0m\u001b[0mrequires_submit\u001b[0m\u001b[0;34m\u001b[0m\u001b[0;34m\u001b[0m\u001b[0m\n",
      "\u001b[0;32m~/bin/anaconda/lib/python3.7/concurrent/futures/process.py\u001b[0m in \u001b[0;36msubmit\u001b[0;34m(self, fn, *args, **kwargs)\u001b[0m\n\u001b[1;32m    597\u001b[0m         \u001b[0;32mwith\u001b[0m \u001b[0mself\u001b[0m\u001b[0;34m.\u001b[0m\u001b[0m_shutdown_lock\u001b[0m\u001b[0;34m:\u001b[0m\u001b[0;34m\u001b[0m\u001b[0;34m\u001b[0m\u001b[0m\n\u001b[1;32m    598\u001b[0m             \u001b[0;32mif\u001b[0m \u001b[0mself\u001b[0m\u001b[0;34m.\u001b[0m\u001b[0m_broken\u001b[0m\u001b[0;34m:\u001b[0m\u001b[0;34m\u001b[0m\u001b[0;34m\u001b[0m\u001b[0m\n\u001b[0;32m--> 599\u001b[0;31m                 \u001b[0;32mraise\u001b[0m \u001b[0mBrokenProcessPool\u001b[0m\u001b[0;34m(\u001b[0m\u001b[0mself\u001b[0m\u001b[0;34m.\u001b[0m\u001b[0m_broken\u001b[0m\u001b[0;34m)\u001b[0m\u001b[0;34m\u001b[0m\u001b[0;34m\u001b[0m\u001b[0m\n\u001b[0m\u001b[1;32m    600\u001b[0m             \u001b[0;32mif\u001b[0m \u001b[0mself\u001b[0m\u001b[0;34m.\u001b[0m\u001b[0m_shutdown_thread\u001b[0m\u001b[0;34m:\u001b[0m\u001b[0;34m\u001b[0m\u001b[0;34m\u001b[0m\u001b[0m\n\u001b[1;32m    601\u001b[0m                 \u001b[0;32mraise\u001b[0m \u001b[0mRuntimeError\u001b[0m\u001b[0;34m(\u001b[0m\u001b[0;34m'cannot schedule new futures after shutdown'\u001b[0m\u001b[0;34m)\u001b[0m\u001b[0;34m\u001b[0m\u001b[0;34m\u001b[0m\u001b[0m\n",
      "\u001b[0;31mBrokenProcessPool\u001b[0m: A child process terminated abruptly, the process pool is not usable anymore"
     ]
    }
   ],
   "source": [
    "t, freq = 15*10**10, 1.55*10**21 \n",
    "c = DustCircuit(4, t, freq)\n",
    "c.measure(c.q, c.c)\n",
    "backend = BasicAer.get_backend('qasm_simulator')\n",
    "c.result = execute(c, backend, shots=1000).result()        \n",
    "c.counts = c.result.get_counts(self)\n",
    "c.dict_results = {}\n",
    "for key in list(c.counts.keys()):\n",
    "    c.dict_results[int(key,2)] = c.counts[key]\n",
    "c.plot()"
   ]
  }
 ],
 "metadata": {
  "kernelspec": {
   "display_name": "Python 3",
   "language": "python",
   "name": "python3"
  },
  "language_info": {
   "codemirror_mode": {
    "name": "ipython",
    "version": 3
   },
   "file_extension": ".py",
   "mimetype": "text/x-python",
   "name": "python",
   "nbconvert_exporter": "python",
   "pygments_lexer": "ipython3",
   "version": "3.7.3"
  }
 },
 "nbformat": 4,
 "nbformat_minor": 2
}
